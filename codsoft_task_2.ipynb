{
 "cells": [
  {
   "cell_type": "code",
   "execution_count": 1,
   "id": "256e1c8c",
   "metadata": {},
   "outputs": [],
   "source": [
    "import pandas as pd\n",
    "import matplotlib.pyplot as plt"
   ]
  },
  {
   "cell_type": "code",
   "execution_count": 2,
   "id": "44e14322",
   "metadata": {},
   "outputs": [
    {
     "data": {
      "text/html": [
       "<div>\n",
       "<style scoped>\n",
       "    .dataframe tbody tr th:only-of-type {\n",
       "        vertical-align: middle;\n",
       "    }\n",
       "\n",
       "    .dataframe tbody tr th {\n",
       "        vertical-align: top;\n",
       "    }\n",
       "\n",
       "    .dataframe thead th {\n",
       "        text-align: right;\n",
       "    }\n",
       "</style>\n",
       "<table border=\"1\" class=\"dataframe\">\n",
       "  <thead>\n",
       "    <tr style=\"text-align: right;\">\n",
       "      <th></th>\n",
       "      <th>Name</th>\n",
       "      <th>Year</th>\n",
       "      <th>Duration</th>\n",
       "      <th>Genre</th>\n",
       "      <th>Rating</th>\n",
       "      <th>Votes</th>\n",
       "      <th>Director</th>\n",
       "      <th>Actor 1</th>\n",
       "      <th>Actor 2</th>\n",
       "      <th>Actor 3</th>\n",
       "    </tr>\n",
       "  </thead>\n",
       "  <tbody>\n",
       "    <tr>\n",
       "      <th>0</th>\n",
       "      <td></td>\n",
       "      <td>NaN</td>\n",
       "      <td>NaN</td>\n",
       "      <td>Drama</td>\n",
       "      <td>NaN</td>\n",
       "      <td>NaN</td>\n",
       "      <td>J.S. Randhawa</td>\n",
       "      <td>Manmauji</td>\n",
       "      <td>Birbal</td>\n",
       "      <td>Rajendra Bhatia</td>\n",
       "    </tr>\n",
       "    <tr>\n",
       "      <th>1</th>\n",
       "      <td>#Gadhvi (He thought he was Gandhi)</td>\n",
       "      <td>(2019)</td>\n",
       "      <td>109 min</td>\n",
       "      <td>Drama</td>\n",
       "      <td>7.0</td>\n",
       "      <td>8</td>\n",
       "      <td>Gaurav Bakshi</td>\n",
       "      <td>Rasika Dugal</td>\n",
       "      <td>Vivek Ghamande</td>\n",
       "      <td>Arvind Jangid</td>\n",
       "    </tr>\n",
       "    <tr>\n",
       "      <th>2</th>\n",
       "      <td>#Homecoming</td>\n",
       "      <td>(2021)</td>\n",
       "      <td>90 min</td>\n",
       "      <td>Drama, Musical</td>\n",
       "      <td>NaN</td>\n",
       "      <td>NaN</td>\n",
       "      <td>Soumyajit Majumdar</td>\n",
       "      <td>Sayani Gupta</td>\n",
       "      <td>Plabita Borthakur</td>\n",
       "      <td>Roy Angana</td>\n",
       "    </tr>\n",
       "    <tr>\n",
       "      <th>3</th>\n",
       "      <td>#Yaaram</td>\n",
       "      <td>(2019)</td>\n",
       "      <td>110 min</td>\n",
       "      <td>Comedy, Romance</td>\n",
       "      <td>4.4</td>\n",
       "      <td>35</td>\n",
       "      <td>Ovais Khan</td>\n",
       "      <td>Prateik</td>\n",
       "      <td>Ishita Raj</td>\n",
       "      <td>Siddhant Kapoor</td>\n",
       "    </tr>\n",
       "    <tr>\n",
       "      <th>4</th>\n",
       "      <td>...And Once Again</td>\n",
       "      <td>(2010)</td>\n",
       "      <td>105 min</td>\n",
       "      <td>Drama</td>\n",
       "      <td>NaN</td>\n",
       "      <td>NaN</td>\n",
       "      <td>Amol Palekar</td>\n",
       "      <td>Rajat Kapoor</td>\n",
       "      <td>Rituparna Sengupta</td>\n",
       "      <td>Antara Mali</td>\n",
       "    </tr>\n",
       "    <tr>\n",
       "      <th>5</th>\n",
       "      <td>...Aur Pyaar Ho Gaya</td>\n",
       "      <td>(1997)</td>\n",
       "      <td>147 min</td>\n",
       "      <td>Comedy, Drama, Musical</td>\n",
       "      <td>4.7</td>\n",
       "      <td>827</td>\n",
       "      <td>Rahul Rawail</td>\n",
       "      <td>Bobby Deol</td>\n",
       "      <td>Aishwarya Rai Bachchan</td>\n",
       "      <td>Shammi Kapoor</td>\n",
       "    </tr>\n",
       "    <tr>\n",
       "      <th>6</th>\n",
       "      <td>...Yahaan</td>\n",
       "      <td>(2005)</td>\n",
       "      <td>142 min</td>\n",
       "      <td>Drama, Romance, War</td>\n",
       "      <td>7.4</td>\n",
       "      <td>1,086</td>\n",
       "      <td>Shoojit Sircar</td>\n",
       "      <td>Jimmy Sheirgill</td>\n",
       "      <td>Minissha Lamba</td>\n",
       "      <td>Yashpal Sharma</td>\n",
       "    </tr>\n",
       "    <tr>\n",
       "      <th>7</th>\n",
       "      <td>.in for Motion</td>\n",
       "      <td>(2008)</td>\n",
       "      <td>59 min</td>\n",
       "      <td>Documentary</td>\n",
       "      <td>NaN</td>\n",
       "      <td>NaN</td>\n",
       "      <td>Anirban Datta</td>\n",
       "      <td>NaN</td>\n",
       "      <td>NaN</td>\n",
       "      <td>NaN</td>\n",
       "    </tr>\n",
       "    <tr>\n",
       "      <th>8</th>\n",
       "      <td>?: A Question Mark</td>\n",
       "      <td>(2012)</td>\n",
       "      <td>82 min</td>\n",
       "      <td>Horror, Mystery, Thriller</td>\n",
       "      <td>5.6</td>\n",
       "      <td>326</td>\n",
       "      <td>Allyson Patel</td>\n",
       "      <td>Yash Dave</td>\n",
       "      <td>Muntazir Ahmad</td>\n",
       "      <td>Kiran Bhatia</td>\n",
       "    </tr>\n",
       "    <tr>\n",
       "      <th>9</th>\n",
       "      <td>@Andheri</td>\n",
       "      <td>(2014)</td>\n",
       "      <td>116 min</td>\n",
       "      <td>Action, Crime, Thriller</td>\n",
       "      <td>4.0</td>\n",
       "      <td>11</td>\n",
       "      <td>Biju Bhaskar Nair</td>\n",
       "      <td>Augustine</td>\n",
       "      <td>Fathima Babu</td>\n",
       "      <td>Byon</td>\n",
       "    </tr>\n",
       "  </tbody>\n",
       "</table>\n",
       "</div>"
      ],
      "text/plain": [
       "                                 Name    Year Duration  \\\n",
       "0                                         NaN      NaN   \n",
       "1  #Gadhvi (He thought he was Gandhi)  (2019)  109 min   \n",
       "2                         #Homecoming  (2021)   90 min   \n",
       "3                             #Yaaram  (2019)  110 min   \n",
       "4                   ...And Once Again  (2010)  105 min   \n",
       "5                ...Aur Pyaar Ho Gaya  (1997)  147 min   \n",
       "6                           ...Yahaan  (2005)  142 min   \n",
       "7                      .in for Motion  (2008)   59 min   \n",
       "8                  ?: A Question Mark  (2012)   82 min   \n",
       "9                            @Andheri  (2014)  116 min   \n",
       "\n",
       "                       Genre  Rating  Votes            Director  \\\n",
       "0                      Drama     NaN    NaN       J.S. Randhawa   \n",
       "1                      Drama     7.0      8       Gaurav Bakshi   \n",
       "2             Drama, Musical     NaN    NaN  Soumyajit Majumdar   \n",
       "3            Comedy, Romance     4.4     35          Ovais Khan   \n",
       "4                      Drama     NaN    NaN        Amol Palekar   \n",
       "5     Comedy, Drama, Musical     4.7    827        Rahul Rawail   \n",
       "6        Drama, Romance, War     7.4  1,086      Shoojit Sircar   \n",
       "7                Documentary     NaN    NaN       Anirban Datta   \n",
       "8  Horror, Mystery, Thriller     5.6    326       Allyson Patel   \n",
       "9    Action, Crime, Thriller     4.0     11   Biju Bhaskar Nair   \n",
       "\n",
       "           Actor 1                 Actor 2          Actor 3  \n",
       "0         Manmauji                  Birbal  Rajendra Bhatia  \n",
       "1     Rasika Dugal          Vivek Ghamande    Arvind Jangid  \n",
       "2     Sayani Gupta       Plabita Borthakur       Roy Angana  \n",
       "3          Prateik              Ishita Raj  Siddhant Kapoor  \n",
       "4     Rajat Kapoor      Rituparna Sengupta      Antara Mali  \n",
       "5       Bobby Deol  Aishwarya Rai Bachchan    Shammi Kapoor  \n",
       "6  Jimmy Sheirgill          Minissha Lamba   Yashpal Sharma  \n",
       "7              NaN                     NaN              NaN  \n",
       "8        Yash Dave          Muntazir Ahmad     Kiran Bhatia  \n",
       "9        Augustine            Fathima Babu             Byon  "
      ]
     },
     "execution_count": 2,
     "metadata": {},
     "output_type": "execute_result"
    }
   ],
   "source": [
    "\n",
    "movie_predict=pd.read_csv(\"movie_rate.csv\",encoding=\"latin1\")\n",
    "movie_predict.head(10)"
   ]
  },
  {
   "cell_type": "code",
   "execution_count": 3,
   "id": "0f2255bc",
   "metadata": {},
   "outputs": [
    {
     "data": {
      "text/plain": [
       "(15509, 10)"
      ]
     },
     "execution_count": 3,
     "metadata": {},
     "output_type": "execute_result"
    }
   ],
   "source": [
    "movie_predict.shape"
   ]
  },
  {
   "cell_type": "code",
   "execution_count": 4,
   "id": "35d45afd",
   "metadata": {},
   "outputs": [
    {
     "data": {
      "text/plain": [
       "<bound method NDFrame.describe of                                      Name    Year Duration            Genre  \\\n",
       "0                                             NaN      NaN            Drama   \n",
       "1      #Gadhvi (He thought he was Gandhi)  (2019)  109 min            Drama   \n",
       "2                             #Homecoming  (2021)   90 min   Drama, Musical   \n",
       "3                                 #Yaaram  (2019)  110 min  Comedy, Romance   \n",
       "4                       ...And Once Again  (2010)  105 min            Drama   \n",
       "...                                   ...     ...      ...              ...   \n",
       "15504                 Zulm Ko Jala Doonga  (1988)      NaN           Action   \n",
       "15505                               Zulmi  (1999)  129 min    Action, Drama   \n",
       "15506                           Zulmi Raj  (2005)      NaN           Action   \n",
       "15507                       Zulmi Shikari  (1988)      NaN           Action   \n",
       "15508                        Zulm-O-Sitam  (1998)  130 min    Action, Drama   \n",
       "\n",
       "       Rating Votes            Director           Actor 1             Actor 2  \\\n",
       "0         NaN   NaN       J.S. Randhawa          Manmauji              Birbal   \n",
       "1         7.0     8       Gaurav Bakshi      Rasika Dugal      Vivek Ghamande   \n",
       "2         NaN   NaN  Soumyajit Majumdar      Sayani Gupta   Plabita Borthakur   \n",
       "3         4.4    35          Ovais Khan           Prateik          Ishita Raj   \n",
       "4         NaN   NaN        Amol Palekar      Rajat Kapoor  Rituparna Sengupta   \n",
       "...       ...   ...                 ...               ...                 ...   \n",
       "15504     4.6    11       Mahendra Shah  Naseeruddin Shah       Sumeet Saigal   \n",
       "15505     4.5   655          Kuku Kohli      Akshay Kumar      Twinkle Khanna   \n",
       "15506     NaN   NaN          Kiran Thej   Sangeeta Tiwari                 NaN   \n",
       "15507     NaN   NaN                 NaN               NaN                 NaN   \n",
       "15508     6.2    20        K.C. Bokadia        Dharmendra          Jaya Prada   \n",
       "\n",
       "               Actor 3  \n",
       "0      Rajendra Bhatia  \n",
       "1        Arvind Jangid  \n",
       "2           Roy Angana  \n",
       "3      Siddhant Kapoor  \n",
       "4          Antara Mali  \n",
       "...                ...  \n",
       "15504    Suparna Anand  \n",
       "15505      Aruna Irani  \n",
       "15506              NaN  \n",
       "15507              NaN  \n",
       "15508      Arjun Sarja  \n",
       "\n",
       "[15509 rows x 10 columns]>"
      ]
     },
     "execution_count": 4,
     "metadata": {},
     "output_type": "execute_result"
    }
   ],
   "source": [
    "movie_predict.describe"
   ]
  },
  {
   "cell_type": "code",
   "execution_count": 5,
   "id": "dd840a83",
   "metadata": {},
   "outputs": [
    {
     "data": {
      "text/plain": [
       "(2019)    410\n",
       "(2021)    392\n",
       "(2018)    381\n",
       "(2017)    360\n",
       "(2005)    346\n",
       "         ... \n",
       "(1917)      1\n",
       "(1913)      1\n",
       "(1926)      1\n",
       "(1914)      1\n",
       "(1924)      1\n",
       "Name: Year, Length: 102, dtype: int64"
      ]
     },
     "execution_count": 5,
     "metadata": {},
     "output_type": "execute_result"
    }
   ],
   "source": [
    "movie_predict[\"Year\"].value_counts()"
   ]
  },
  {
   "cell_type": "code",
   "execution_count": 6,
   "id": "6330f6c3",
   "metadata": {},
   "outputs": [
    {
     "data": {
      "text/plain": [
       "14981"
      ]
     },
     "execution_count": 6,
     "metadata": {},
     "output_type": "execute_result"
    }
   ],
   "source": [
    "sum(movie_predict[\"Year\"].value_counts())"
   ]
  },
  {
   "cell_type": "code",
   "execution_count": 7,
   "id": "cfc59034",
   "metadata": {},
   "outputs": [
    {
     "data": {
      "text/plain": [
       "6.2     269\n",
       "6.8     264\n",
       "6.5     254\n",
       "6.6     239\n",
       "6.7     227\n",
       "       ... \n",
       "9.6       1\n",
       "1.4       1\n",
       "9.7       1\n",
       "10.0      1\n",
       "1.1       1\n",
       "Name: Rating, Length: 84, dtype: int64"
      ]
     },
     "execution_count": 7,
     "metadata": {},
     "output_type": "execute_result"
    }
   ],
   "source": [
    "movie_predict[\"Rating\"].value_counts()"
   ]
  },
  {
   "cell_type": "code",
   "execution_count": 9,
   "id": "8ef3a3cf",
   "metadata": {},
   "outputs": [
    {
     "data": {
      "text/plain": [
       "7919"
      ]
     },
     "execution_count": 9,
     "metadata": {},
     "output_type": "execute_result"
    }
   ],
   "source": [
    "movie_predict[\"Rating\"].value_counts().sum()"
   ]
  },
  {
   "cell_type": "code",
   "execution_count": 10,
   "id": "4fd4b3ab",
   "metadata": {},
   "outputs": [
    {
     "data": {
      "text/plain": [
       "8        227\n",
       "7        224\n",
       "9        221\n",
       "6        213\n",
       "10       175\n",
       "        ... \n",
       "1,754      1\n",
       "1,208      1\n",
       "1,148      1\n",
       "1,277      1\n",
       "1,496      1\n",
       "Name: Votes, Length: 2034, dtype: int64"
      ]
     },
     "execution_count": 10,
     "metadata": {},
     "output_type": "execute_result"
    }
   ],
   "source": [
    "movie_predict[\"Votes\"].value_counts()"
   ]
  },
  {
   "cell_type": "code",
   "execution_count": 11,
   "id": "eae886f0",
   "metadata": {},
   "outputs": [
    {
     "data": {
      "text/plain": [
       "7920"
      ]
     },
     "execution_count": 11,
     "metadata": {},
     "output_type": "execute_result"
    }
   ],
   "source": [
    "movie_predict[\"Votes\"].value_counts().sum()"
   ]
  },
  {
   "cell_type": "code",
   "execution_count": 11,
   "id": "4896d4ee",
   "metadata": {},
   "outputs": [
    {
     "data": {
      "image/png": "[encoded data removed]",
      "text/plain": [
       "<Figure size 300x500 with 1 Axes>"
      ]
     },
     "metadata": {},
     "output_type": "display_data"
    }
   ],
   "source": [
    "plt.figure(figsize=(3,5))\n",
    "plt.hist(movie_predict['Rating'])\n",
    "plt.title(\"MOVIE RATING\")\n",
    "plt.show()"
   ]
  },
  {
   "cell_type": "code",
   "execution_count": 14,
   "id": "8558e18e",
   "metadata": {},
   "outputs": [
    {
     "data": {
      "text/html": [
       "<div>\n",
       "<style scoped>\n",
       "    .dataframe tbody tr th:only-of-type {\n",
       "        vertical-align: middle;\n",
       "    }\n",
       "\n",
       "    .dataframe tbody tr th {\n",
       "        vertical-align: top;\n",
       "    }\n",
       "\n",
       "    .dataframe thead th {\n",
       "        text-align: right;\n",
       "    }\n",
       "</style>\n",
       "<table border=\"1\" class=\"dataframe\">\n",
       "  <thead>\n",
       "    <tr style=\"text-align: right;\">\n",
       "      <th></th>\n",
       "      <th>Name</th>\n",
       "      <th>Year</th>\n",
       "      <th>Duration</th>\n",
       "      <th>Genre</th>\n",
       "      <th>Rating</th>\n",
       "      <th>Votes</th>\n",
       "      <th>Director</th>\n",
       "      <th>Actor 1</th>\n",
       "      <th>Actor 2</th>\n",
       "      <th>Actor 3</th>\n",
       "    </tr>\n",
       "  </thead>\n",
       "  <tbody>\n",
       "    <tr>\n",
       "      <th>15489</th>\n",
       "      <td>Zor Lagaa Ke... Haiya!</td>\n",
       "      <td>88</td>\n",
       "      <td>NaN</td>\n",
       "      <td>Comedy, Drama, Family</td>\n",
       "      <td>47</td>\n",
       "      <td>1574</td>\n",
       "      <td>Girish Girija Joshi</td>\n",
       "      <td>Meghan Jadhav</td>\n",
       "      <td>Mithun Chakraborty</td>\n",
       "      <td>Riya Sen</td>\n",
       "    </tr>\n",
       "    <tr>\n",
       "      <th>15490</th>\n",
       "      <td>Zor: Never Underestimate the Force</td>\n",
       "      <td>77</td>\n",
       "      <td>157 min</td>\n",
       "      <td>Action, Drama, Thriller</td>\n",
       "      <td>29</td>\n",
       "      <td>930</td>\n",
       "      <td>Sangeeth Sivan</td>\n",
       "      <td>Sunny Deol</td>\n",
       "      <td>Sushmita Sen</td>\n",
       "      <td>Milind Gunaji</td>\n",
       "    </tr>\n",
       "    <tr>\n",
       "      <th>15491</th>\n",
       "      <td>Zordaar</td>\n",
       "      <td>75</td>\n",
       "      <td>NaN</td>\n",
       "      <td>Action</td>\n",
       "      <td>33</td>\n",
       "      <td>962</td>\n",
       "      <td>Ajay Kashyap</td>\n",
       "      <td>Mahesh Anand</td>\n",
       "      <td>Vikas Anand</td>\n",
       "      <td>Bob Christo</td>\n",
       "    </tr>\n",
       "    <tr>\n",
       "      <th>15492</th>\n",
       "      <td>Zorro</td>\n",
       "      <td>54</td>\n",
       "      <td>150 min</td>\n",
       "      <td>Action, Adventure, Comedy</td>\n",
       "      <td>42</td>\n",
       "      <td>1142</td>\n",
       "      <td>Shibu Mitra</td>\n",
       "      <td>Navin Nischol</td>\n",
       "      <td>Rekha</td>\n",
       "      <td>Urmila Bhatt</td>\n",
       "    </tr>\n",
       "    <tr>\n",
       "      <th>15493</th>\n",
       "      <td>Zubaan</td>\n",
       "      <td>94</td>\n",
       "      <td>115 min</td>\n",
       "      <td>Drama</td>\n",
       "      <td>47</td>\n",
       "      <td>1317</td>\n",
       "      <td>Mozez Singh</td>\n",
       "      <td>Vicky Kaushal</td>\n",
       "      <td>Sarah Jane Dias</td>\n",
       "      <td>Raaghavv Chanana</td>\n",
       "    </tr>\n",
       "    <tr>\n",
       "      <th>15494</th>\n",
       "      <td>Zubeidaa</td>\n",
       "      <td>80</td>\n",
       "      <td>153 min</td>\n",
       "      <td>Biography, Drama, History</td>\n",
       "      <td>48</td>\n",
       "      <td>179</td>\n",
       "      <td>Shyam Benegal</td>\n",
       "      <td>Karisma Kapoor</td>\n",
       "      <td>Rekha</td>\n",
       "      <td>Manoj Bajpayee</td>\n",
       "    </tr>\n",
       "    <tr>\n",
       "      <th>15495</th>\n",
       "      <td>Zulf Ke Saye Saye</td>\n",
       "      <td>62</td>\n",
       "      <td>NaN</td>\n",
       "      <td>NaN</td>\n",
       "      <td>84</td>\n",
       "      <td>2034</td>\n",
       "      <td>Anand Sagar</td>\n",
       "      <td>Roohi Berde</td>\n",
       "      <td>Rakesh Pandey</td>\n",
       "      <td>NaN</td>\n",
       "    </tr>\n",
       "    <tr>\n",
       "      <th>15496</th>\n",
       "      <td>Zulm Aur Inteqaam</td>\n",
       "      <td>65</td>\n",
       "      <td>NaN</td>\n",
       "      <td>Action</td>\n",
       "      <td>84</td>\n",
       "      <td>2034</td>\n",
       "      <td>NaN</td>\n",
       "      <td>NaN</td>\n",
       "      <td>NaN</td>\n",
       "      <td>NaN</td>\n",
       "    </tr>\n",
       "    <tr>\n",
       "      <th>15497</th>\n",
       "      <td>Zulm Hi Zulm</td>\n",
       "      <td>75</td>\n",
       "      <td>NaN</td>\n",
       "      <td>Drama</td>\n",
       "      <td>84</td>\n",
       "      <td>2034</td>\n",
       "      <td>Ved Prakash</td>\n",
       "      <td>Akashdeep</td>\n",
       "      <td>Huma Khan</td>\n",
       "      <td>Amita Nangia</td>\n",
       "    </tr>\n",
       "    <tr>\n",
       "      <th>15498</th>\n",
       "      <td>Zulm Ka Badla</td>\n",
       "      <td>64</td>\n",
       "      <td>NaN</td>\n",
       "      <td>Action, Crime, Drama</td>\n",
       "      <td>35</td>\n",
       "      <td>368</td>\n",
       "      <td>Chand</td>\n",
       "      <td>K. Prasad</td>\n",
       "      <td>Rakesh Roshan</td>\n",
       "      <td>Anita Raj</td>\n",
       "    </tr>\n",
       "    <tr>\n",
       "      <th>15499</th>\n",
       "      <td>Zulm Ka Jawab</td>\n",
       "      <td>74</td>\n",
       "      <td>NaN</td>\n",
       "      <td>Action</td>\n",
       "      <td>84</td>\n",
       "      <td>2034</td>\n",
       "      <td>Surinder Kapoor</td>\n",
       "      <td>Goga Kapoor</td>\n",
       "      <td>Shakti Kapoor</td>\n",
       "      <td>Kiran Kumar</td>\n",
       "    </tr>\n",
       "    <tr>\n",
       "      <th>15500</th>\n",
       "      <td>Zulm Ka Muqabla</td>\n",
       "      <td>72</td>\n",
       "      <td>NaN</td>\n",
       "      <td>Action</td>\n",
       "      <td>84</td>\n",
       "      <td>2034</td>\n",
       "      <td>Babu Antony</td>\n",
       "      <td>Nandamuri Balakrishna</td>\n",
       "      <td>Vijayshanti</td>\n",
       "      <td>NaN</td>\n",
       "    </tr>\n",
       "    <tr>\n",
       "      <th>15501</th>\n",
       "      <td>Zulm Ki Hukumat</td>\n",
       "      <td>71</td>\n",
       "      <td>NaN</td>\n",
       "      <td>Action, Crime, Drama</td>\n",
       "      <td>39</td>\n",
       "      <td>468</td>\n",
       "      <td>Bharat Rangachary</td>\n",
       "      <td>Dharmendra</td>\n",
       "      <td>Moushumi Chatterjee</td>\n",
       "      <td>Govinda</td>\n",
       "    </tr>\n",
       "    <tr>\n",
       "      <th>15502</th>\n",
       "      <td>Zulm Ki Pukar</td>\n",
       "      <td>58</td>\n",
       "      <td>NaN</td>\n",
       "      <td>Action</td>\n",
       "      <td>84</td>\n",
       "      <td>2034</td>\n",
       "      <td>Dinesh-Ramanesh</td>\n",
       "      <td>Ramesh Puri</td>\n",
       "      <td>Jalal Agha</td>\n",
       "      <td>Valerie Agha</td>\n",
       "    </tr>\n",
       "    <tr>\n",
       "      <th>15503</th>\n",
       "      <td>Zulm Ki Zanjeer</td>\n",
       "      <td>68</td>\n",
       "      <td>125 min</td>\n",
       "      <td>Action, Crime, Drama</td>\n",
       "      <td>44</td>\n",
       "      <td>1353</td>\n",
       "      <td>S.P. Muthuraman</td>\n",
       "      <td>Chiranjeevi</td>\n",
       "      <td>Jayamalini</td>\n",
       "      <td>Rajinikanth</td>\n",
       "    </tr>\n",
       "    <tr>\n",
       "      <th>15504</th>\n",
       "      <td>Zulm Ko Jala Doonga</td>\n",
       "      <td>67</td>\n",
       "      <td>NaN</td>\n",
       "      <td>Action</td>\n",
       "      <td>32</td>\n",
       "      <td>368</td>\n",
       "      <td>Mahendra Shah</td>\n",
       "      <td>Naseeruddin Shah</td>\n",
       "      <td>Sumeet Saigal</td>\n",
       "      <td>Suparna Anand</td>\n",
       "    </tr>\n",
       "    <tr>\n",
       "      <th>15505</th>\n",
       "      <td>Zulmi</td>\n",
       "      <td>78</td>\n",
       "      <td>129 min</td>\n",
       "      <td>Action, Drama</td>\n",
       "      <td>31</td>\n",
       "      <td>1687</td>\n",
       "      <td>Kuku Kohli</td>\n",
       "      <td>Akshay Kumar</td>\n",
       "      <td>Twinkle Khanna</td>\n",
       "      <td>Aruna Irani</td>\n",
       "    </tr>\n",
       "    <tr>\n",
       "      <th>15506</th>\n",
       "      <td>Zulmi Raj</td>\n",
       "      <td>84</td>\n",
       "      <td>NaN</td>\n",
       "      <td>Action</td>\n",
       "      <td>84</td>\n",
       "      <td>2034</td>\n",
       "      <td>Kiran Thej</td>\n",
       "      <td>Sangeeta Tiwari</td>\n",
       "      <td>NaN</td>\n",
       "      <td>NaN</td>\n",
       "    </tr>\n",
       "    <tr>\n",
       "      <th>15507</th>\n",
       "      <td>Zulmi Shikari</td>\n",
       "      <td>67</td>\n",
       "      <td>NaN</td>\n",
       "      <td>Action</td>\n",
       "      <td>84</td>\n",
       "      <td>2034</td>\n",
       "      <td>NaN</td>\n",
       "      <td>NaN</td>\n",
       "      <td>NaN</td>\n",
       "      <td>NaN</td>\n",
       "    </tr>\n",
       "    <tr>\n",
       "      <th>15508</th>\n",
       "      <td>Zulm-O-Sitam</td>\n",
       "      <td>77</td>\n",
       "      <td>130 min</td>\n",
       "      <td>Action, Drama</td>\n",
       "      <td>48</td>\n",
       "      <td>794</td>\n",
       "      <td>K.C. Bokadia</td>\n",
       "      <td>Dharmendra</td>\n",
       "      <td>Jaya Prada</td>\n",
       "      <td>Arjun Sarja</td>\n",
       "    </tr>\n",
       "  </tbody>\n",
       "</table>\n",
       "</div>"
      ],
      "text/plain": [
       "                                     Name  Year Duration  \\\n",
       "15489              Zor Lagaa Ke... Haiya!    88      NaN   \n",
       "15490  Zor: Never Underestimate the Force    77  157 min   \n",
       "15491                             Zordaar    75      NaN   \n",
       "15492                               Zorro    54  150 min   \n",
       "15493                              Zubaan    94  115 min   \n",
       "15494                            Zubeidaa    80  153 min   \n",
       "15495                   Zulf Ke Saye Saye    62      NaN   \n",
       "15496                   Zulm Aur Inteqaam    65      NaN   \n",
       "15497                        Zulm Hi Zulm    75      NaN   \n",
       "15498                       Zulm Ka Badla    64      NaN   \n",
       "15499                       Zulm Ka Jawab    74      NaN   \n",
       "15500                     Zulm Ka Muqabla    72      NaN   \n",
       "15501                     Zulm Ki Hukumat    71      NaN   \n",
       "15502                       Zulm Ki Pukar    58      NaN   \n",
       "15503                     Zulm Ki Zanjeer    68  125 min   \n",
       "15504                 Zulm Ko Jala Doonga    67      NaN   \n",
       "15505                               Zulmi    78  129 min   \n",
       "15506                           Zulmi Raj    84      NaN   \n",
       "15507                       Zulmi Shikari    67      NaN   \n",
       "15508                        Zulm-O-Sitam    77  130 min   \n",
       "\n",
       "                           Genre  Rating  Votes             Director  \\\n",
       "15489      Comedy, Drama, Family      47   1574  Girish Girija Joshi   \n",
       "15490    Action, Drama, Thriller      29    930       Sangeeth Sivan   \n",
       "15491                     Action      33    962         Ajay Kashyap   \n",
       "15492  Action, Adventure, Comedy      42   1142          Shibu Mitra   \n",
       "15493                      Drama      47   1317          Mozez Singh   \n",
       "15494  Biography, Drama, History      48    179        Shyam Benegal   \n",
       "15495                        NaN      84   2034          Anand Sagar   \n",
       "15496                     Action      84   2034                  NaN   \n",
       "15497                      Drama      84   2034          Ved Prakash   \n",
       "15498       Action, Crime, Drama      35    368                Chand   \n",
       "15499                     Action      84   2034      Surinder Kapoor   \n",
       "15500                     Action      84   2034          Babu Antony   \n",
       "15501       Action, Crime, Drama      39    468    Bharat Rangachary   \n",
       "15502                     Action      84   2034      Dinesh-Ramanesh   \n",
       "15503       Action, Crime, Drama      44   1353      S.P. Muthuraman   \n",
       "15504                     Action      32    368        Mahendra Shah   \n",
       "15505              Action, Drama      31   1687           Kuku Kohli   \n",
       "15506                     Action      84   2034           Kiran Thej   \n",
       "15507                     Action      84   2034                  NaN   \n",
       "15508              Action, Drama      48    794         K.C. Bokadia   \n",
       "\n",
       "                     Actor 1              Actor 2           Actor 3  \n",
       "15489          Meghan Jadhav   Mithun Chakraborty          Riya Sen  \n",
       "15490             Sunny Deol         Sushmita Sen     Milind Gunaji  \n",
       "15491           Mahesh Anand          Vikas Anand       Bob Christo  \n",
       "15492          Navin Nischol                Rekha      Urmila Bhatt  \n",
       "15493          Vicky Kaushal      Sarah Jane Dias  Raaghavv Chanana  \n",
       "15494         Karisma Kapoor                Rekha    Manoj Bajpayee  \n",
       "15495            Roohi Berde        Rakesh Pandey               NaN  \n",
       "15496                    NaN                  NaN               NaN  \n",
       "15497              Akashdeep            Huma Khan      Amita Nangia  \n",
       "15498              K. Prasad        Rakesh Roshan         Anita Raj  \n",
       "15499            Goga Kapoor        Shakti Kapoor       Kiran Kumar  \n",
       "15500  Nandamuri Balakrishna          Vijayshanti               NaN  \n",
       "15501             Dharmendra  Moushumi Chatterjee           Govinda  \n",
       "15502            Ramesh Puri           Jalal Agha      Valerie Agha  \n",
       "15503            Chiranjeevi           Jayamalini       Rajinikanth  \n",
       "15504       Naseeruddin Shah        Sumeet Saigal     Suparna Anand  \n",
       "15505           Akshay Kumar       Twinkle Khanna       Aruna Irani  \n",
       "15506        Sangeeta Tiwari                  NaN               NaN  \n",
       "15507                    NaN                  NaN               NaN  \n",
       "15508             Dharmendra           Jaya Prada       Arjun Sarja  "
      ]
     },
     "execution_count": 14,
     "metadata": {},
     "output_type": "execute_result"
    }
   ],
   "source": [
    "from sklearn.preprocessing import LabelEncoder\n",
    "convert= LabelEncoder()\n",
    "\n",
    "movie_predict['Year']= convert.fit_transform(movie_predict['Year'])\n",
    "movie_predict['Rating']= convert.fit_transform(movie_predict['Rating'])\n",
    "movie_predict['Votes']= convert.fit_transform(movie_predict['Votes'])\n",
    "\n",
    "movie_predict.tail(20)"
   ]
  },
  {
   "cell_type": "code",
   "execution_count": 16,
   "id": "c330d558",
   "metadata": {},
   "outputs": [
    {
     "data": {
      "image/png": "[encoded data removed]",
      "text/plain": [
       "<Figure size 300x500 with 1 Axes>"
      ]
     },
     "metadata": {},
     "output_type": "display_data"
    }
   ],
   "source": [
    "plt.figure(figsize=(3,5))\n",
    "plt.hist(movie_predict['Votes'])\n",
    "plt.title(\"VOTING_ MOVIE\")\n",
    "\n",
    "plt.show()"
   ]
  },
  {
   "cell_type": "code",
   "execution_count": 17,
   "id": "0dba5f1e",
   "metadata": {},
   "outputs": [
    {
     "data": {
      "image/png": "[encoded data removed]",
      "text/plain": [
       "<Figure size 300x500 with 1 Axes>"
      ]
     },
     "metadata": {},
     "output_type": "display_data"
    }
   ],
   "source": [
    "plt.figure(figsize=(3,5))\n",
    "plt.hist(movie_predict['Year'])\n",
    "plt.title(\"MOVIE_RATE PREDICTION BY YEAR\")\n",
    "plt.show()"
   ]
  },
  {
   "cell_type": "code",
   "execution_count": 18,
   "id": "eea41bf5",
   "metadata": {},
   "outputs": [
    {
     "data": {
      "text/plain": [
       "0        False\n",
       "1        False\n",
       "2        False\n",
       "3        False\n",
       "4        False\n",
       "         ...  \n",
       "15504    False\n",
       "15505    False\n",
       "15506    False\n",
       "15507    False\n",
       "15508    False\n",
       "Name: Year, Length: 15509, dtype: bool"
      ]
     },
     "execution_count": 18,
     "metadata": {},
     "output_type": "execute_result"
    }
   ],
   "source": [
    "movie_predict['Year'].isnull()"
   ]
  },
  {
   "cell_type": "code",
   "execution_count": 19,
   "id": "8b2280ee",
   "metadata": {},
   "outputs": [
    {
     "data": {
      "text/plain": [
       "0"
      ]
     },
     "execution_count": 19,
     "metadata": {},
     "output_type": "execute_result"
    }
   ],
   "source": [
    "sum(movie_predict['Year'].isnull())"
   ]
  },
  {
   "cell_type": "code",
   "execution_count": 20,
   "id": "79ba9b2e",
   "metadata": {},
   "outputs": [
    {
     "data": {
      "text/plain": [
       "0"
      ]
     },
     "execution_count": 20,
     "metadata": {},
     "output_type": "execute_result"
    }
   ],
   "source": [
    "sum(movie_predict['Votes'].isnull())"
   ]
  },
  {
   "cell_type": "code",
   "execution_count": 21,
   "id": "f1d10490",
   "metadata": {},
   "outputs": [
    {
     "data": {
      "text/plain": [
       "0"
      ]
     },
     "execution_count": 21,
     "metadata": {},
     "output_type": "execute_result"
    }
   ],
   "source": [
    "sum(movie_predict['Rating'].isnull())"
   ]
  },
  {
   "cell_type": "code",
   "execution_count": 22,
   "id": "86c46511",
   "metadata": {},
   "outputs": [],
   "source": [
    "\n",
    "X= movie_predict[['Year', 'Votes']]\n",
    "Y=movie_predict['Rating']\n"
   ]
  },
  {
   "cell_type": "code",
   "execution_count": 23,
   "id": "4a8e9fb7",
   "metadata": {},
   "outputs": [],
   "source": [
    "\n",
    "from sklearn.model_selection import train_test_split\n",
    "X_train, X_test, Y_train, Y_test = train_test_split(X, Y, test_size = 0.2, random_state = 0)\n"
   ]
  },
  {
   "cell_type": "code",
   "execution_count": 25,
   "id": "7eaa3c13",
   "metadata": {},
   "outputs": [
    {
     "name": "stderr",
     "output_type": "stream",
     "text": [
      "C:\\Users\\sekar\\anaconda3\\Lib\\site-packages\\sklearn\\linear_model\\_logistic.py:460: ConvergenceWarning: lbfgs failed to converge (status=1):\n",
      "STOP: TOTAL NO. of ITERATIONS REACHED LIMIT.\n",
      "\n",
      "Increase the number of iterations (max_iter) or scale the data as shown in:\n",
      "    https://scikit-learn.org/stable/modules/preprocessing.html\n",
      "Please also refer to the documentation for alternative solver options:\n",
      "    https://scikit-learn.org/stable/modules/linear_model.html#logistic-regression\n",
      "  n_iter_i = _check_optimize_result(\n"
     ]
    },
    {
     "data": {
      "text/html": [
       "<style>#sk-container-id-2 {color: black;}#sk-container-id-2 pre{padding: 0;}#sk-container-id-2 div.sk-toggleable {background-color: white;}#sk-container-id-2 label.sk-toggleable__label {cursor: pointer;display: block;width: 100%;margin-bottom: 0;padding: 0.3em;box-sizing: border-box;text-align: center;}#sk-container-id-2 label.sk-toggleable__label-arrow:before {content: \"▸\";float: left;margin-right: 0.25em;color: #696969;}#sk-container-id-2 label.sk-toggleable__label-arrow:hover:before {color: black;}#sk-container-id-2 div.sk-estimator:hover label.sk-toggleable__label-arrow:before {color: black;}#sk-container-id-2 div.sk-toggleable__content {max-height: 0;max-width: 0;overflow: hidden;text-align: left;background-color: #f0f8ff;}#sk-container-id-2 div.sk-toggleable__content pre {margin: 0.2em;color: black;border-radius: 0.25em;background-color: #f0f8ff;}#sk-container-id-2 input.sk-toggleable__control:checked~div.sk-toggleable__content {max-height: 200px;max-width: 100%;overflow: auto;}#sk-container-id-2 input.sk-toggleable__control:checked~label.sk-toggleable__label-arrow:before {content: \"▾\";}#sk-container-id-2 div.sk-estimator input.sk-toggleable__control:checked~label.sk-toggleable__label {background-color: #d4ebff;}#sk-container-id-2 div.sk-label input.sk-toggleable__control:checked~label.sk-toggleable__label {background-color: #d4ebff;}#sk-container-id-2 input.sk-hidden--visually {border: 0;clip: rect(1px 1px 1px 1px);clip: rect(1px, 1px, 1px, 1px);height: 1px;margin: -1px;overflow: hidden;padding: 0;position: absolute;width: 1px;}#sk-container-id-2 div.sk-estimator {font-family: monospace;background-color: #f0f8ff;border: 1px dotted black;border-radius: 0.25em;box-sizing: border-box;margin-bottom: 0.5em;}#sk-container-id-2 div.sk-estimator:hover {background-color: #d4ebff;}#sk-container-id-2 div.sk-parallel-item::after {content: \"\";width: 100%;border-bottom: 1px solid gray;flex-grow: 1;}#sk-container-id-2 div.sk-label:hover label.sk-toggleable__label {background-color: #d4ebff;}#sk-container-id-2 div.sk-serial::before {content: \"\";position: absolute;border-left: 1px solid gray;box-sizing: border-box;top: 0;bottom: 0;left: 50%;z-index: 0;}#sk-container-id-2 div.sk-serial {display: flex;flex-direction: column;align-items: center;background-color: white;padding-right: 0.2em;padding-left: 0.2em;position: relative;}#sk-container-id-2 div.sk-item {position: relative;z-index: 1;}#sk-container-id-2 div.sk-parallel {display: flex;align-items: stretch;justify-content: center;background-color: white;position: relative;}#sk-container-id-2 div.sk-item::before, #sk-container-id-2 div.sk-parallel-item::before {content: \"\";position: absolute;border-left: 1px solid gray;box-sizing: border-box;top: 0;bottom: 0;left: 50%;z-index: -1;}#sk-container-id-2 div.sk-parallel-item {display: flex;flex-direction: column;z-index: 1;position: relative;background-color: white;}#sk-container-id-2 div.sk-parallel-item:first-child::after {align-self: flex-end;width: 50%;}#sk-container-id-2 div.sk-parallel-item:last-child::after {align-self: flex-start;width: 50%;}#sk-container-id-2 div.sk-parallel-item:only-child::after {width: 0;}#sk-container-id-2 div.sk-dashed-wrapped {border: 1px dashed gray;margin: 0 0.4em 0.5em 0.4em;box-sizing: border-box;padding-bottom: 0.4em;background-color: white;}#sk-container-id-2 div.sk-label label {font-family: monospace;font-weight: bold;display: inline-block;line-height: 1.2em;}#sk-container-id-2 div.sk-label-container {text-align: center;}#sk-container-id-2 div.sk-container {/* jupyter's `normalize.less` sets `[hidden] { display: none; }` but bootstrap.min.css set `[hidden] { display: none !important; }` so we also need the `!important` here to be able to override the default hidden behavior on the sphinx rendered scikit-learn.org. See: https://github.com/scikit-learn/scikit-learn/issues/21755 */display: inline-block !important;position: relative;}#sk-container-id-2 div.sk-text-repr-fallback {display: none;}</style><div id=\"sk-container-id-2\" class=\"sk-top-container\"><div class=\"sk-text-repr-fallback\"><pre>LogisticRegression(random_state=0)</pre><b>In a Jupyter environment, please rerun this cell to show the HTML representation or trust the notebook. <br />On GitHub, the HTML representation is unable to render, please try loading this page with nbviewer.org.</b></div><div class=\"sk-container\" hidden><div class=\"sk-item\"><div class=\"sk-estimator sk-toggleable\"><input class=\"sk-toggleable__control sk-hidden--visually\" id=\"sk-estimator-id-2\" type=\"checkbox\" checked><label for=\"sk-estimator-id-2\" class=\"sk-toggleable__label sk-toggleable__label-arrow\">LogisticRegression</label><div class=\"sk-toggleable__content\"><pre>LogisticRegression(random_state=0)</pre></div></div></div></div></div>"
      ],
      "text/plain": [
       "LogisticRegression(random_state=0)"
      ]
     },
     "execution_count": 25,
     "metadata": {},
     "output_type": "execute_result"
    }
   ],
   "source": [
    "\n",
    "from sklearn.linear_model import LogisticRegression\n",
    "\n",
    "movie= LogisticRegression(random_state = 0)\n",
    "movie.fit(X_train, Y_train)"
   ]
  },
  {
   "cell_type": "code",
   "execution_count": 32,
   "id": "773ae437",
   "metadata": {},
   "outputs": [
    {
     "name": "stdout",
     "output_type": "stream",
     "text": [
      "[84 84 40 ... 84 84 84]\n"
     ]
    }
   ],
   "source": [
    "\n",
    "prediction= print(movie.predict(X_test))"
   ]
  },
  {
   "cell_type": "code",
   "execution_count": 33,
   "id": "a678cc21",
   "metadata": {},
   "outputs": [
    {
     "name": "stdout",
     "output_type": "stream",
     "text": [
      "13720    84\n",
      "7796     40\n",
      "4399     69\n",
      "2702     44\n",
      "167      24\n",
      "         ..\n",
      "13199    84\n",
      "5095     43\n",
      "7298     84\n",
      "13614    84\n",
      "7968     84\n",
      "Name: Rating, Length: 3102, dtype: int64\n"
     ]
    }
   ],
   "source": [
    "print(Y_test)"
   ]
  },
  {
   "cell_type": "code",
   "execution_count": 35,
   "id": "5110365f",
   "metadata": {},
   "outputs": [
    {
     "name": "stdout",
     "output_type": "stream",
     "text": [
      "accuracy: 0.4945196647324307\n"
     ]
    }
   ],
   "source": [
    "print(\"accuracy:\",movie.score(X_test,Y_test))"
   ]
  }
 ],
 "metadata": {
  "kernelspec": {
   "display_name": "Python 3 (ipykernel)",
   "language": "python",
   "name": "python3"
  },
  "language_info": {
   "codemirror_mode": {
    "name": "ipython",
    "version": 3
   },
   "file_extension": ".py",
   "mimetype": "text/x-python",
   "name": "python",
   "nbconvert_exporter": "python",
   "pygments_lexer": "ipython3",
   "version": "3.11.4"
  }
 },
 "nbformat": 4,
 "nbformat_minor": 5
}
